{
 "cells": [
  {
   "cell_type": "markdown",
   "metadata": {},
   "source": [
    "### Clean Text\n",
    "- Lowercase\n",
    "- Remove punctuations\n",
    "- Remove url\n",
    "- Remove twitter handle\n",
    "- Stem tokens"
   ]
  },
  {
   "cell_type": "code",
   "execution_count": 3,
   "metadata": {
    "ExecuteTime": {
     "end_time": "2020-02-24T17:19:23.350742Z",
     "start_time": "2020-02-24T17:19:23.343717Z"
    }
   },
   "outputs": [],
   "source": [
    "import os\n",
    "import sys\n",
    "import re\n",
    "import string\n",
    "import pandas as pd\n",
    "module_path = os.path.abspath(os.path.join('..'))\n",
    "if module_path not in sys.path:\n",
    "    sys.path.append(module_path)\n",
    "from src.clean_text import clean_text\n",
    "pd.set_option('display.max_colwidth', -1)"
   ]
  },
  {
   "cell_type": "code",
   "execution_count": 5,
   "metadata": {
    "ExecuteTime": {
     "end_time": "2020-02-24T17:19:29.546076Z",
     "start_time": "2020-02-24T17:19:29.511200Z"
    }
   },
   "outputs": [],
   "source": [
    "data = pd.read_csv(\"../data/train.csv\")"
   ]
  },
  {
   "cell_type": "code",
   "execution_count": null,
   "metadata": {
    "ExecuteTime": {
     "end_time": "2020-02-20T04:13:23.640394Z",
     "start_time": "2020-02-20T04:13:23.634295Z"
    }
   },
   "outputs": [],
   "source": [
    "def text_to_lowercase(text):\n",
    "    return text.lower()\n",
    "\n",
    "def text_remove_punctuation(text):\n",
    "    return text.translate(str.maketrans('', '', string.punctuation))\n",
    "\n",
    "def text_remove_url(text):\n",
    "    return re.sub(r\"http\\S+\", \"\", text)\n",
    "\n",
    "def text_remove_twitter_handle(text):\n",
    "    return re.sub('@[^\\s]+','',text)\n",
    "\n",
    "def text_remove_leadtrail_spaces(text):\n",
    "    return text.strip()\n",
    "\n",
    "def clean_text(text):\n",
    "    # order matters\n",
    "    text1 = text_remove_twitter_handle(text)\n",
    "    text2 = text_remove_url(text1)\n",
    "    text3 = text_remove_punctuation(text2)\n",
    "    text4 = text_to_lowercase(text3)\n",
    "    text5 = text_remove_leadtrail_spaces(text4)\n",
    "    return text5\n",
    "    "
   ]
  },
  {
   "cell_type": "code",
   "execution_count": 6,
   "metadata": {
    "ExecuteTime": {
     "end_time": "2020-02-24T17:19:40.691739Z",
     "start_time": "2020-02-24T17:19:40.682442Z"
    }
   },
   "outputs": [],
   "source": [
    "x = data[\"text\"].sample(5)\n",
    "y = [clean_text(i) for i in x]"
   ]
  },
  {
   "cell_type": "code",
   "execution_count": 7,
   "metadata": {
    "ExecuteTime": {
     "end_time": "2020-02-24T17:19:42.922341Z",
     "start_time": "2020-02-24T17:19:42.909662Z"
    }
   },
   "outputs": [
    {
     "data": {
      "text/plain": [
       "1696    Secrets of the world collide but i leave the past behind \\nIt's been so long now and I can't go without                                   \n",
       "7461    Explosion in Gaza Strip kills four wounds 30; cause unknown http://t.co/GopSiCP8bm via @Reuters                                           \n",
       "5493    Reddit updates content policy promises to quarantine Û÷extremely offensiveÛª communities http://t.co/PLmIWOfpom                         \n",
       "6106    If there's a chance will get a gander of the sinking ship that is #TNA too. Can't help but appease my morbid curiosity. #DestinationIMPACT\n",
       "3847    i guess you can say ig's hopes went up in flames                                                                                          \n",
       "Name: text, dtype: object"
      ]
     },
     "execution_count": 7,
     "metadata": {},
     "output_type": "execute_result"
    }
   ],
   "source": [
    "x"
   ]
  },
  {
   "cell_type": "code",
   "execution_count": 8,
   "metadata": {
    "ExecuteTime": {
     "end_time": "2020-02-24T17:19:44.283300Z",
     "start_time": "2020-02-24T17:19:44.279727Z"
    }
   },
   "outputs": [
    {
     "data": {
      "text/plain": [
       "['secrets of the world collide but i leave the past behind \\nits been so long now and i cant go without',\n",
       " 'explosion in gaza strip kills four wounds 30 cause unknown  via',\n",
       " 'reddit updates content policy promises to quarantine \\x89û÷extremely offensive\\x89ûª communities',\n",
       " 'if theres a chance will get a gander of the sinking ship that is tna too cant help but appease my morbid curiosity destinationimpact',\n",
       " 'i guess you can say igs hopes went up in flames']"
      ]
     },
     "execution_count": 8,
     "metadata": {},
     "output_type": "execute_result"
    }
   ],
   "source": [
    "y"
   ]
  },
  {
   "cell_type": "code",
   "execution_count": null,
   "metadata": {
    "ExecuteTime": {
     "end_time": "2020-02-20T04:03:44.580223Z",
     "start_time": "2020-02-20T04:03:44.576411Z"
    }
   },
   "outputs": [],
   "source": [
    "subject = \"Coastal German Shepherd Rescue OC shared a link... http://t.co/2JxkmkpalP #animalrescue | https://t.co/ec46LyQQc6\"\n",
    "re.sub(r\"http\\S+\", \"\", subject)"
   ]
  },
  {
   "cell_type": "code",
   "execution_count": null,
   "metadata": {
    "ExecuteTime": {
     "end_time": "2020-02-20T04:02:03.698045Z",
     "start_time": "2020-02-20T04:02:03.694038Z"
    }
   },
   "outputs": [],
   "source": [
    "\"asda'asdad\".translate(str.maketrans('', '', string.punctuation))"
   ]
  },
  {
   "cell_type": "code",
   "execution_count": null,
   "metadata": {
    "ExecuteTime": {
     "end_time": "2020-02-20T04:09:45.498863Z",
     "start_time": "2020-02-20T04:09:45.496444Z"
    }
   },
   "outputs": [],
   "source": [
    "x = \"Snap On Tools Black baseball Hat/Cap Silver/Gray Embroidered S Logo Flames - Full reÛ_ http://t.co/hTqVF44UQs http://t.co/PvXeLxCJeu\""
   ]
  },
  {
   "cell_type": "code",
   "execution_count": null,
   "metadata": {
    "ExecuteTime": {
     "end_time": "2020-02-20T04:10:19.374319Z",
     "start_time": "2020-02-20T04:10:19.371189Z"
    }
   },
   "outputs": [],
   "source": [
    "string.printable"
   ]
  },
  {
   "cell_type": "code",
   "execution_count": null,
   "metadata": {},
   "outputs": [],
   "source": []
  }
 ],
 "metadata": {
  "kernelspec": {
   "display_name": "Python 3",
   "language": "python",
   "name": "python3"
  },
  "language_info": {
   "codemirror_mode": {
    "name": "ipython",
    "version": 3
   },
   "file_extension": ".py",
   "mimetype": "text/x-python",
   "name": "python",
   "nbconvert_exporter": "python",
   "pygments_lexer": "ipython3",
   "version": "3.7.3"
  }
 },
 "nbformat": 4,
 "nbformat_minor": 2
}
