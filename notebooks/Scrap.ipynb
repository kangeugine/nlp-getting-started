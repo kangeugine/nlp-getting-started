{
 "cells": [
  {
   "cell_type": "code",
   "execution_count": 2,
   "metadata": {},
   "outputs": [],
   "source": [
    "import io\n",
    "import os\n",
    "import sys\n",
    "import time\n",
    "import math\n",
    "import pandas as pd\n",
    "import numpy as np\n",
    "from tqdm import tqdm\n",
    "from sklearn.metrics import f1_score\n",
    "\n",
    "import torch\n",
    "import torch.nn as nn\n",
    "import torch.nn.functional as F"
   ]
  },
  {
   "cell_type": "code",
   "execution_count": 3,
   "metadata": {},
   "outputs": [],
   "source": [
    "class Classifier(nn.Module):\n",
    "    def __init__(self, embed_dim, num_class):\n",
    "        super().__init__()\n",
    "        self.fc = nn.Linear(embed_dim, num_class)\n",
    "        self.init_weights()\n",
    "\n",
    "    def init_weights(self):\n",
    "        initrange = 0.5\n",
    "        self.fc.weight.data.uniform_(-initrange, initrange)\n",
    "        self.fc.bias.data.zero_()\n",
    "\n",
    "    def forward(self, x):\n",
    "        return self.fc(x)"
   ]
  },
  {
   "cell_type": "code",
   "execution_count": 25,
   "metadata": {},
   "outputs": [],
   "source": [
    "clf = Classifier(5, 1)\n",
    "criterion = torch.nn.MSELoss()\n",
    "optimizer = torch.optim.SGD(clf.parameters(), lr=4.0)\n",
    "scheduler = torch.optim.lr_scheduler.StepLR(optimizer, 1, gamma=0.9)"
   ]
  },
  {
   "cell_type": "code",
   "execution_count": 41,
   "metadata": {},
   "outputs": [],
   "source": [
    "N_EPOCHS = 10\n",
    "X = torch.rand(1000, 5)\n",
    "y = torch.tensor(np.random.randint(2, size=1000), dtype=torch.float).view(-1,1)"
   ]
  },
  {
   "cell_type": "code",
   "execution_count": null,
   "metadata": {},
   "outputs": [],
   "source": [
    "train_loss = 0"
   ]
  },
  {
   "cell_type": "code",
   "execution_count": 46,
   "metadata": {},
   "outputs": [
    {
     "name": "stdout",
     "output_type": "stream",
     "text": [
      "0\n",
      "1360.5058872699738\n",
      "[Parameter containing:\n",
      "tensor([[145.0599, 143.4603, 140.9775, 140.8455, 145.6968]],\n",
      "       requires_grad=True), Parameter containing:\n",
      "tensor([275.6641], requires_grad=True)]\n",
      "1\n",
      "411110.47463727\n",
      "[Parameter containing:\n",
      "tensor([[-2521.5676, -2494.1392, -2449.4731, -2446.7937, -2532.8196]],\n",
      "       requires_grad=True), Parameter containing:\n",
      "tensor([-4786.7158], requires_grad=True)]\n",
      "2\n",
      "124297886.47463727\n",
      "[Parameter containing:\n",
      "tensor([[43845.7344, 43368.5820, 42593.3242, 42547.1758, 44041.3672]],\n",
      "       requires_grad=True), Parameter containing:\n",
      "tensor([83239.3906], requires_grad=True)]\n",
      "3\n",
      "37581140638.47464\n",
      "[Parameter containing:\n",
      "tensor([[-762395.8750, -754098.9375, -740617.1250, -739814.4375, -765797.4375]],\n",
      "       requires_grad=True), Parameter containing:\n",
      "tensor([-1447370.6250], requires_grad=True)]\n",
      "4\n",
      "11362562650782.475\n",
      "[Parameter containing:\n",
      "tensor([[13256645., 13112379., 12877957., 12864003., 13315793.]],\n",
      "       requires_grad=True), Parameter containing:\n",
      "tensor([25167092.], requires_grad=True)]\n",
      "5\n",
      "3435441487524510.5\n",
      "[Parameter containing:\n",
      "tensor([[-2.3051e+08, -2.2800e+08, -2.2392e+08, -2.2368e+08, -2.3154e+08]],\n",
      "       requires_grad=True), Parameter containing:\n",
      "tensor([-4.3761e+08], requires_grad=True)]\n",
      "6\n",
      "1.038696832416527e+18\n",
      "[Parameter containing:\n",
      "tensor([[4.0081e+09, 3.9645e+09, 3.8936e+09, 3.8894e+09, 4.0260e+09]],\n",
      "       requires_grad=True), Parameter containing:\n",
      "tensor([7.6092e+09], requires_grad=True)]\n",
      "7\n",
      "3.1404727999959525e+20\n",
      "[Parameter containing:\n",
      "tensor([[-6.9694e+10, -6.8935e+10, -6.7703e+10, -6.7629e+10, -7.0005e+10]],\n",
      "       requires_grad=True), Parameter containing:\n",
      "tensor([-1.3231e+11], requires_grad=True)]\n",
      "8\n",
      "9.495139281287052e+22\n",
      "[Parameter containing:\n",
      "tensor([[1.2118e+12, 1.1987e+12, 1.1772e+12, 1.1759e+12, 1.2172e+12]],\n",
      "       requires_grad=True), Parameter containing:\n",
      "tensor([2.3006e+12], requires_grad=True)]\n",
      "9\n",
      "2.870830256225518e+25\n",
      "[Parameter containing:\n",
      "tensor([[-2.1072e+13, -2.0842e+13, -2.0470e+13, -2.0448e+13, -2.1166e+13]],\n",
      "       requires_grad=True), Parameter containing:\n",
      "tensor([-4.0004e+13], requires_grad=True)]\n"
     ]
    }
   ],
   "source": [
    "for i in range(N_EPOCHS):\n",
    "    print(i)\n",
    "    optimizer.zero_grad()\n",
    "    output = clf.forward(X)\n",
    "    loss = criterion(output, y)\n",
    "    train_loss += loss.item()\n",
    "    loss.backward()\n",
    "    optimizer.step()\n",
    "    print(train_loss)\n",
    "    print(list(clf.parameters()))\n"
   ]
  },
  {
   "cell_type": "code",
   "execution_count": null,
   "metadata": {},
   "outputs": [],
   "source": []
  }
 ],
 "metadata": {
  "kernelspec": {
   "display_name": "Python 3",
   "language": "python",
   "name": "python3"
  },
  "language_info": {
   "codemirror_mode": {
    "name": "ipython",
    "version": 3
   },
   "file_extension": ".py",
   "mimetype": "text/x-python",
   "name": "python",
   "nbconvert_exporter": "python",
   "pygments_lexer": "ipython3",
   "version": "3.7.6"
  }
 },
 "nbformat": 4,
 "nbformat_minor": 4
}
