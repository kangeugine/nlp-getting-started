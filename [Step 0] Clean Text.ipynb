{
 "cells": [
  {
   "cell_type": "markdown",
   "metadata": {},
   "source": [
    "### Clean Text\n",
    "- Lowercase\n",
    "- Remove punctuations\n",
    "- Remove url\n",
    "- Remove twitter handle\n",
    "- Stem tokens"
   ]
  },
  {
   "cell_type": "code",
   "execution_count": 1,
   "metadata": {
    "ExecuteTime": {
     "end_time": "2020-02-20T04:16:36.887713Z",
     "start_time": "2020-02-20T04:16:36.876782Z"
    }
   },
   "outputs": [],
   "source": [
    "import re\n",
    "import string\n",
    "import pandas as pd\n",
    "from src.clean_text import clean_text\n",
    "pd.set_option('display.max_colwidth', -1)"
   ]
  },
  {
   "cell_type": "code",
   "execution_count": 2,
   "metadata": {
    "ExecuteTime": {
     "end_time": "2020-02-20T04:16:37.978811Z",
     "start_time": "2020-02-20T04:16:37.948327Z"
    }
   },
   "outputs": [],
   "source": [
    "data = pd.read_csv(\"data/train.csv\")"
   ]
  },
  {
   "cell_type": "code",
   "execution_count": null,
   "metadata": {
    "ExecuteTime": {
     "end_time": "2020-02-20T04:13:23.640394Z",
     "start_time": "2020-02-20T04:13:23.634295Z"
    }
   },
   "outputs": [],
   "source": [
    "def text_to_lowercase(text):\n",
    "    return text.lower()\n",
    "\n",
    "def text_remove_punctuation(text):\n",
    "    return text.translate(str.maketrans('', '', string.punctuation))\n",
    "\n",
    "def text_remove_url(text):\n",
    "    return re.sub(r\"http\\S+\", \"\", text)\n",
    "\n",
    "def text_remove_twitter_handle(text):\n",
    "    return re.sub('@[^\\s]+','',text)\n",
    "\n",
    "def text_remove_leadtrail_spaces(text):\n",
    "    return text.strip()\n",
    "\n",
    "def clean_text(text):\n",
    "    # order matters\n",
    "    text1 = text_remove_twitter_handle(text)\n",
    "    text2 = text_remove_url(text1)\n",
    "    text3 = text_remove_punctuation(text2)\n",
    "    text4 = text_to_lowercase(text3)\n",
    "    text5 = text_remove_leadtrail_spaces(text4)\n",
    "    return text5\n",
    "    "
   ]
  },
  {
   "cell_type": "code",
   "execution_count": 3,
   "metadata": {
    "ExecuteTime": {
     "end_time": "2020-02-20T04:16:40.664179Z",
     "start_time": "2020-02-20T04:16:40.659986Z"
    }
   },
   "outputs": [],
   "source": [
    "x = data[\"text\"].sample(5)\n",
    "y = [clean_text(i) for i in x]"
   ]
  },
  {
   "cell_type": "code",
   "execution_count": 4,
   "metadata": {
    "ExecuteTime": {
     "end_time": "2020-02-20T04:16:41.196885Z",
     "start_time": "2020-02-20T04:16:41.190726Z"
    }
   },
   "outputs": [
    {
     "data": {
      "text/plain": [
       "6223    @bre_morrow neither of them even smoke so I dk what was going on lol                                                     \n",
       "7046    Global precipitation measurement satellite captures 3-D image of Typhoon Soudelor - @NASAHurricane http://t.co/MvSRjd4X3D\n",
       "6396    Suicide bomber kills 15 in Saudi security site mosque http://t.co/ETyZY8GB2A #mercados                                   \n",
       "5866    RT to ruin @connormidd 's day.  http://t.co/krsy54XMMC                                                                   \n",
       "6709    NIggas playing in the thunderstorm.. 'HOPE THE LORR BLESS EM' ????                                                       \n",
       "Name: text, dtype: object"
      ]
     },
     "execution_count": 4,
     "metadata": {},
     "output_type": "execute_result"
    }
   ],
   "source": [
    "x"
   ]
  },
  {
   "cell_type": "code",
   "execution_count": 5,
   "metadata": {
    "ExecuteTime": {
     "end_time": "2020-02-20T04:16:41.790332Z",
     "start_time": "2020-02-20T04:16:41.786541Z"
    }
   },
   "outputs": [
    {
     "data": {
      "text/plain": [
       "['neither of them even smoke so i dk what was going on lol',\n",
       " 'global precipitation measurement satellite captures 3d image of typhoon soudelor',\n",
       " 'suicide bomber kills 15 in saudi security site mosque  mercados',\n",
       " 'rt to ruin  s day',\n",
       " 'niggas playing in the thunderstorm hope the lorr bless em']"
      ]
     },
     "execution_count": 5,
     "metadata": {},
     "output_type": "execute_result"
    }
   ],
   "source": [
    "y"
   ]
  },
  {
   "cell_type": "code",
   "execution_count": null,
   "metadata": {
    "ExecuteTime": {
     "end_time": "2020-02-20T04:03:44.580223Z",
     "start_time": "2020-02-20T04:03:44.576411Z"
    }
   },
   "outputs": [],
   "source": [
    "subject = \"Coastal German Shepherd Rescue OC shared a link... http://t.co/2JxkmkpalP #animalrescue | https://t.co/ec46LyQQc6\"\n",
    "re.sub(r\"http\\S+\", \"\", subject)"
   ]
  },
  {
   "cell_type": "code",
   "execution_count": null,
   "metadata": {
    "ExecuteTime": {
     "end_time": "2020-02-20T04:02:03.698045Z",
     "start_time": "2020-02-20T04:02:03.694038Z"
    }
   },
   "outputs": [],
   "source": [
    "\"asda'asdad\".translate(str.maketrans('', '', string.punctuation))"
   ]
  },
  {
   "cell_type": "code",
   "execution_count": null,
   "metadata": {
    "ExecuteTime": {
     "end_time": "2020-02-20T04:09:45.498863Z",
     "start_time": "2020-02-20T04:09:45.496444Z"
    }
   },
   "outputs": [],
   "source": [
    "x = \"Snap On Tools Black baseball Hat/Cap Silver/Gray Embroidered S Logo Flames - Full reÛ_ http://t.co/hTqVF44UQs http://t.co/PvXeLxCJeu\""
   ]
  },
  {
   "cell_type": "code",
   "execution_count": null,
   "metadata": {
    "ExecuteTime": {
     "end_time": "2020-02-20T04:10:19.374319Z",
     "start_time": "2020-02-20T04:10:19.371189Z"
    }
   },
   "outputs": [],
   "source": [
    "string.printable"
   ]
  },
  {
   "cell_type": "code",
   "execution_count": null,
   "metadata": {},
   "outputs": [],
   "source": []
  }
 ],
 "metadata": {
  "kernelspec": {
   "display_name": "Python 3",
   "language": "python",
   "name": "python3"
  },
  "language_info": {
   "codemirror_mode": {
    "name": "ipython",
    "version": 3
   },
   "file_extension": ".py",
   "mimetype": "text/x-python",
   "name": "python",
   "nbconvert_exporter": "python",
   "pygments_lexer": "ipython3",
   "version": "3.7.3"
  }
 },
 "nbformat": 4,
 "nbformat_minor": 2
}
